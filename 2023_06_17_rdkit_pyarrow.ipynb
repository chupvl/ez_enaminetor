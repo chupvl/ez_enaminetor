{
  "cells": [
    {
      "cell_type": "markdown",
      "metadata": {
        "id": "view-in-github",
        "colab_type": "text"
      },
      "source": [
        "<a href=\"https://colab.research.google.com/github/chupvl/ez_enaminetor/blob/master/2023_06_17_rdkit_pyarrow.ipynb\" target=\"_parent\"><img src=\"https://colab.research.google.com/assets/colab-badge.svg\" alt=\"Open In Colab\"/></a>"
      ]
    },
    {
      "cell_type": "markdown",
      "metadata": {
        "id": "1gowpH675jBt"
      },
      "source": [
        "# Enaminator: PyArrow and Dask for dealing with Enamine files"
      ]
    },
    {
      "cell_type": "markdown",
      "metadata": {
        "id": "VORahhjSiQ3U"
      },
      "source": [
        "## Checking instance"
      ]
    },
    {
      "cell_type": "code",
      "execution_count": null,
      "metadata": {
        "colab": {
          "base_uri": "https://localhost:8080/"
        },
        "id": "5C5Wa9JX-Y4M",
        "outputId": "64452b8f-a6f2-4cfd-beca-061c1f8971d4"
      },
      "outputs": [
        {
          "name": "stdout",
          "output_type": "stream",
          "text": [
            "8\n"
          ]
        }
      ],
      "source": [
        "!nproc"
      ]
    },
    {
      "cell_type": "code",
      "execution_count": null,
      "metadata": {
        "colab": {
          "base_uri": "https://localhost:8080/"
        },
        "id": "yUepgCPk-cU9",
        "outputId": "f34173b2-c74d-43e7-acb4-c3038f803c22"
      },
      "outputs": [
        {
          "name": "stdout",
          "output_type": "stream",
          "text": [
            "              total        used        free      shared  buff/cache   available\n",
            "Mem:           50Gi       760Mi        34Gi       7.0Mi        15Gi        49Gi\n",
            "Swap:            0B          0B          0B\n"
          ]
        }
      ],
      "source": [
        "!free -h"
      ]
    },
    {
      "cell_type": "markdown",
      "metadata": {
        "id": "toriVsiR6FMC"
      },
      "source": [
        "## Data"
      ]
    },
    {
      "cell_type": "code",
      "execution_count": null,
      "metadata": {
        "colab": {
          "base_uri": "https://localhost:8080/"
        },
        "id": "MpuOSUtY5Hb9",
        "outputId": "65edb59c-6745-4b99-cdcc-5af17b8f5422"
      },
      "outputs": [
        {
          "name": "stdout",
          "output_type": "stream",
          "text": [
            "--2023-06-22 19:29:47--  https://ftp.enamine.net/download/REAL/Enamine_Diverse_REAL_drug-like_48.2M_cxsmiles.cxsmiles.bz2\n",
            "Resolving ftp.enamine.net (ftp.enamine.net)... 18.119.77.46\n",
            "Connecting to ftp.enamine.net (ftp.enamine.net)|18.119.77.46|:443... connected.\n",
            "HTTP request sent, awaiting response... 200 OK\n",
            "Length: 613714240 (585M) [application/octet-stream]\n",
            "Saving to: ‘Enamine_Diverse_REAL_drug-like_48.2M_cxsmiles.cxsmiles.bz2’\n",
            "\n",
            "Enamine_Diverse_REA 100%[===================>] 585.28M  15.6MB/s    in 38s     \n",
            "\n",
            "2023-06-22 19:30:27 (15.2 MB/s) - ‘Enamine_Diverse_REAL_drug-like_48.2M_cxsmiles.cxsmiles.bz2’ saved [613714240/613714240]\n",
            "\n"
          ]
        }
      ],
      "source": [
        "#!wget https://ftp.enamine.net/download/REAL/Enamine_REAL_350-3_lead-like_cxsmiles.cxsmiles.bz2\n",
        "# !wget https://ftp.enamine.net/download/REAL/Enamine_REAL_lead-like_cxsmiles.cxsmiles.bz2\n",
        "!wget https://ftp.enamine.net/download/REAL/Enamine_Diverse_REAL_drug-like_48.2M_cxsmiles.cxsmiles.bz2"
      ]
    },
    {
      "cell_type": "code",
      "execution_count": null,
      "metadata": {
        "colab": {
          "base_uri": "https://localhost:8080/"
        },
        "id": "ZyO_5qBg9Qpz",
        "outputId": "0ba97bde-58ae-4437-e353-a008b1675db5"
      },
      "outputs": [
        {
          "name": "stdout",
          "output_type": "stream",
          "text": [
            "bzip2: Output file Enamine_Diverse_REAL_drug-like_48.2M_cxsmiles.cxsmiles already exists.\n",
            "CPU times: user 3.26 ms, sys: 2.14 ms, total: 5.4 ms\n",
            "Wall time: 105 ms\n"
          ]
        }
      ],
      "source": [
        "%%time\n",
        "!bzip2 -d Enamine_Diverse_REAL_drug-like_48.2M_cxsmiles.cxsmiles.bz2"
      ]
    },
    {
      "cell_type": "code",
      "execution_count": null,
      "metadata": {
        "colab": {
          "base_uri": "https://localhost:8080/"
        },
        "id": "u3ANQRPX_ZwZ",
        "outputId": "70e74d03-7ff8-450b-c815-f4b105894e5b"
      },
      "outputs": [
        {
          "name": "stdout",
          "output_type": "stream",
          "text": [
            "smiles\tidnumber\tType\n",
            "FCC(CF)NC(CF)CF\tPV-009095522958\tM\n",
            "FC(F)(F)C12CC(NC3CSCSC3)(CO1)C2\tZ5067467525\tM\n",
            "CCN(CC1C2CC3C(C2)C13)C(C)(C)C\tPV-009234181902\tM\n",
            "Br/C=C\\CN1C2CC3CC1CC(C2)O3\tZ7289498217\tM\n",
            "CC(N[C@H]1[C@@H]2C[C@H]1N[C@@H]2C)C1C(C)(C)C1(C)C |&1:3,4,6,8|\tPV-008660388768\tM\n",
            "FC(F)C1(NCC=CCl)COC1\tZ4428721271\tM\n",
            "CC(C)C(NC(C)C1C2CC3C(C2)C31)C(C)C\tPV-002844111784\tM\n",
            "FC(F)(F)C=CC=C1COC1\tPV-003477850680\tM\n",
            "FCC12CC(NCC3CC(F)C3)(CO1)C2\tZ4496448804\tM\n"
          ]
        }
      ],
      "source": [
        "!head Enamine_Diverse_REAL_drug-like_48.2M_cxsmiles.cxsmiles"
      ]
    },
    {
      "cell_type": "code",
      "execution_count": null,
      "metadata": {
        "colab": {
          "base_uri": "https://localhost:8080/"
        },
        "id": "tctbv7Lf_cZr",
        "outputId": "bcf5663e-2cec-47cc-b6e6-28ce5dd2ad90"
      },
      "outputs": [
        {
          "name": "stdout",
          "output_type": "stream",
          "text": [
            "48232772 Enamine_Diverse_REAL_drug-like_48.2M_cxsmiles.cxsmiles\n"
          ]
        }
      ],
      "source": [
        "!wc -l Enamine_Diverse_REAL_drug-like_48.2M_cxsmiles.cxsmiles"
      ]
    },
    {
      "cell_type": "markdown",
      "metadata": {
        "id": "k887vPhC9RFH"
      },
      "source": [
        "## Libs"
      ]
    },
    {
      "cell_type": "code",
      "execution_count": null,
      "metadata": {
        "id": "74DUgzEu-pIT"
      },
      "outputs": [],
      "source": [
        "!pip install rdkit -q\n",
        "!pip install pyarrow -q\n",
        "!pip install polars -q\n",
        "!pip install dask -q"
      ]
    },
    {
      "cell_type": "code",
      "execution_count": null,
      "metadata": {
        "colab": {
          "base_uri": "https://localhost:8080/"
        },
        "id": "nL8ayc2Adk_r",
        "outputId": "6df5b5e5-fd31-47aa-9b47-1a4ce64f65f7"
      },
      "outputs": [
        {
          "name": "stdout",
          "output_type": "stream",
          "text": [
            "fatal: destination path 'ez_enaminetor' already exists and is not an empty directory.\n",
            "Looking in indexes: https://pypi.org/simple, https://us-python.pkg.dev/colab-wheels/public/simple/\n",
            "Processing ./ez_enaminetor\n",
            "  Preparing metadata (setup.py) ... \u001b[?25l\u001b[?25hdone\n",
            "Building wheels for collected packages: ez-enaminetor\n",
            "  Building wheel for ez-enaminetor (setup.py) ... \u001b[?25l\u001b[?25hdone\n",
            "  Created wheel for ez-enaminetor: filename=ez_enaminetor-2023.6-py3-none-any.whl size=3722 sha256=e003462c79b2d3116d3781bf836bf72ad645fb78f7d512893454de2ecbd5dc3c\n",
            "  Stored in directory: /tmp/pip-ephem-wheel-cache-0dyuugrp/wheels/a6/fb/e5/26413647301cb325e11583664b3a0a702df412ac53a916df1a\n",
            "Successfully built ez-enaminetor\n",
            "Installing collected packages: ez-enaminetor\n",
            "  Attempting uninstall: ez-enaminetor\n",
            "    Found existing installation: ez-enaminetor 2023.6\n",
            "    Uninstalling ez-enaminetor-2023.6:\n",
            "      Successfully uninstalled ez-enaminetor-2023.6\n",
            "Successfully installed ez-enaminetor-2023.6\n"
          ]
        }
      ],
      "source": [
        "!git clone https://github.com/chupvl/ez_enaminetor\n",
        "!pip install ./ez_enaminetor/."
      ]
    },
    {
      "cell_type": "markdown",
      "metadata": {
        "id": "OGUGBWcbdyFG"
      },
      "source": [
        "## Preparation: 1M chunks"
      ]
    },
    {
      "cell_type": "code",
      "execution_count": null,
      "metadata": {
        "id": "vrgMvoNElhXz"
      },
      "outputs": [],
      "source": [
        "import os"
      ]
    },
    {
      "cell_type": "code",
      "execution_count": null,
      "metadata": {
        "colab": {
          "base_uri": "https://localhost:8080/"
        },
        "id": "DEkMfpRwdxRr",
        "outputId": "08b0bfe0-bc45-4592-e49a-44edbac5ccf3"
      },
      "outputs": [
        {
          "name": "stdout",
          "output_type": "stream",
          "text": [
            "CPU times: user 241 ms, sys: 30.7 ms, total: 271 ms\n",
            "Wall time: 28.8 s\n"
          ]
        }
      ],
      "source": [
        "%%time\n",
        "!python ./ez_enaminetor/csv_splitter.py Enamine_Diverse_REAL_drug-like_48.2M_cxsmiles.cxsmiles -c 1000000 -n enamine_real_dl_chunk"
      ]
    },
    {
      "cell_type": "code",
      "execution_count": null,
      "metadata": {
        "colab": {
          "base_uri": "https://localhost:8080/"
        },
        "id": "ubJZ1PePfWHE",
        "outputId": "70c8d7a5-f692-44d3-e582-624393abc019"
      },
      "outputs": [
        {
          "name": "stdout",
          "output_type": "stream",
          "text": [
            "number of chunks: 49\n"
          ]
        }
      ],
      "source": [
        "chunks = [i for i in os.listdir() if 'enamine_real_dl_chunk' in i]\n",
        "print(f'number of chunks: {len(chunks)}')"
      ]
    },
    {
      "cell_type": "code",
      "execution_count": null,
      "metadata": {
        "colab": {
          "background_save": true,
          "base_uri": "https://localhost:8080/"
        },
        "id": "wUMthuofgC6H",
        "outputId": "03c585e5-b438-4ffa-8562-b0a534298621"
      },
      "outputs": [
        {
          "name": "stdout",
          "output_type": "stream",
          "text": [
            "enamine_real_dl_chunk_10\n",
            "enamine_real_dl_chunk_11\n",
            "enamine_real_dl_chunk_12\n",
            "enamine_real_dl_chunk_13\n",
            "enamine_real_dl_chunk_14\n",
            "enamine_real_dl_chunk_15\n",
            "enamine_real_dl_chunk_16\n",
            "enamine_real_dl_chunk_17\n",
            "enamine_real_dl_chunk_18\n",
            "enamine_real_dl_chunk_19\n",
            "enamine_real_dl_chunk_1\n",
            "enamine_real_dl_chunk_20\n",
            "enamine_real_dl_chunk_21\n",
            "enamine_real_dl_chunk_22\n",
            "enamine_real_dl_chunk_23\n",
            "enamine_real_dl_chunk_24\n",
            "enamine_real_dl_chunk_25\n",
            "enamine_real_dl_chunk_26\n",
            "enamine_real_dl_chunk_27\n",
            "enamine_real_dl_chunk_28\n",
            "enamine_real_dl_chunk_29\n",
            "enamine_real_dl_chunk_2\n",
            "enamine_real_dl_chunk_30\n",
            "enamine_real_dl_chunk_31\n",
            "enamine_real_dl_chunk_32\n",
            "enamine_real_dl_chunk_33\n",
            "enamine_real_dl_chunk_34\n",
            "enamine_real_dl_chunk_35\n",
            "enamine_real_dl_chunk_36\n",
            "enamine_real_dl_chunk_37\n",
            "enamine_real_dl_chunk_38\n",
            "enamine_real_dl_chunk_39\n",
            "enamine_real_dl_chunk_3\n",
            "enamine_real_dl_chunk_40\n",
            "enamine_real_dl_chunk_41\n",
            "enamine_real_dl_chunk_42\n",
            "enamine_real_dl_chunk_43\n",
            "enamine_real_dl_chunk_44\n",
            "enamine_real_dl_chunk_45\n",
            "enamine_real_dl_chunk_46\n",
            "enamine_real_dl_chunk_47\n",
            "enamine_real_dl_chunk_48\n",
            "enamine_real_dl_chunk_49\n",
            "enamine_real_dl_chunk_4\n",
            "enamine_real_dl_chunk_5\n",
            "enamine_real_dl_chunk_6\n",
            "enamine_real_dl_chunk_7\n",
            "enamine_real_dl_chunk_8\n",
            "enamine_real_dl_chunk_9\n",
            "CPU times: user 1min 13s, sys: 7.88 s, total: 1min 21s\n",
            "Wall time: 2h 41min 27s\n"
          ]
        }
      ],
      "source": [
        "%%time\n",
        "!for i in enamine_real_dl_chunk*.csv; do python ./ez_enaminetor/csv2parquet_withProps.py --input $i --output ${i%.*}.pq | echo ${i%.*}; done"
      ]
    },
    {
      "cell_type": "code",
      "source": [
        "pq.read_table('enamine_real_dl_chunk_45.pq')"
      ],
      "metadata": {
        "colab": {
          "base_uri": "https://localhost:8080/"
        },
        "id": "MTJwDyJDwlQl",
        "outputId": "bf452403-6594-40db-85d5-5b3d190af594"
      },
      "execution_count": 67,
      "outputs": [
        {
          "output_type": "execute_result",
          "data": {
            "text/plain": [
              "pyarrow.Table\n",
              "smiles: string\n",
              "idnumber: string\n",
              "Type: string\n",
              "mw: double\n",
              "hba: int64\n",
              "hbd: int64\n",
              "num_heavy_atoms: int64\n",
              "----\n",
              "smiles: [[\"CC(OC(F)F)C(=O)NC1=NC2=CC=CC(O)=C2S1\",\"CC(OC(F)F)C(=O)NC1=NC=C(C(C)(C)O)S1\",\"CC(OC(F)F)C(=O)NC1=NN(C)C(C#N)=C1\",\"CC(OC(F)F)C(=O)NC1CC(CNC(=O)OC(C)(C)C)C1\",\"CC(OC(F)F)C(=O)NC1CCN(C2CCN(C)C2=O)CC1\",...,\"CC1=C(C(=O)NC(C)C(C)NC(=O)C2=C(C)C(Br)=NO2)N=CS1\",\"CC1=C(C(=O)NC(C)C(C)NC(=O)C2=C(C)N=C(C(C)(C)C)N=C2C)ON=C1\",\"CC1=C(C(=O)NC(C)C(C)NC(=O)C2=C(C)NC(C)=C2C)N(C(C)C)N=C1\",\"CC1=C(C(=O)NC(C)C(C)NC(=O)C2=C(Cl)CC2)NC(=O)N1\",\"CC1=C(C(=O)NC(C)C(C)NC(=O)C2=C(F)NN=C2)C=NN1C\"],[\"CC1=C(C(=O)NC(C)C(C)NC(=O)C2=CC(C(F)F)=CC(F)=C2)SN=C1\",\"CC1=C(C(=O)NC(C)C(C)NC(=O)C2=COC=C2Br)C=NN1C\",\"CC1=C(C(=O)NC(C)C(C)NC(=O)CC(C)(C)O)C(C)=C(Br)O1\",\"CC1=C(C(=O)NC(C)C(N)C2=CC=CC=C2)C=CC=C1NC(C)C\",\"CC1=C(C(=O)NC(C)C(N)C2=CC=CC=C2)SCCO1\",...,\"CC1=CC=C(C)C(CC(=O)NC2=NC=CC(O)=C2C)=C1\",\"CC1=CC=C(C)C(CC(=O)NCCC2=NC=C(C)O2)=C1\",\"CC1=CC=C(C)C(CC(=O)NCCC2CCC(C)C2)=C1\",\"CC1=CC=C(C)C(CC(=O)OC2CC3(C2)CC(F)(F)C3)=C1\",\"CC1=CC=C(C)C(CC2CCN(CCN3CCN(C4CC4)CC3)CC2)=C1\"],...,[\"CC1(C)COC1C(=O)N1CC(NC(=O)C2=CC(OCC3=CC=CC=C3)=CS2)C1\",\"CC1(C)COC1C(=O)N1CC(O)(C2=CC=NC=N2)C1\",\"CC1(C)COC1C(=O)N1CC(O)(CCNC(=O)C2=CC=NC(N3CCCC3)=C2)C1\",\"CC1(C)COC1C(=O)N1CC(O)(CNC(=O)CCC2=CSC3=CC=CC=C23)C1\",\"CC1(C)COC1C(=O)N1CC(OC2=CC(Cl)=CC=C2)C1\",...,\"CC1=C(Br)C=CC=C1C(C)C(=O)N(C)C1(CN)CCC1\",\"CC1=C(Br)C=CC=C1C(C)C(=O)N(C)C1=NN=NN1C1=CC=CC=C1\",\"CC1=C(Br)C=CC=C1C(C)C(=O)N(C)CC1=CNN=N1\",\"CC1=C(Br)C=CC=C1C(C)C(=O)N(C)CCC1=CC=CN=C1\",\"CC1=C(Br)C=CC=C1C(C)C(=O)N(C)C[C@H]1CCCN1\"],[\"CC1=C(Br)C=CC=C1C(C)C(=O)N1CC(=O)N[C@@H]2CC[C@H]21 |&1:17,20|\",\"CC1=C(Br)C=CC=C1C(C)C(=O)N1CC(C(C)(C)C#N)C1\",\"CC1=C(Br)C=CC=C1C(C)C(=O)N1CC2=CON=C2C1\",\"CC1=C(Br)C=CC=C1C(C)C(=O)N1CCC(C)(C)S(=O)(=O)CC1\",\"CC1=C(Br)C=CC=C1C(C)C(=O)N1COCCC1C\",...,\"CC1=C(C(=O)N2CC(NC(=O)C3=NNC(CO)=C3)CC23CCCCC3)SC=C1\",\"CC1=C(C(=O)N2CC(NC(=O)C3=NOC4=NC=CC=C34)C2)C=C(C(C)(C)C)N1C\",\"CC1=C(C(=O)N2CC(NC(=O)C3=NOC=C3C(C)C)C2)SC2=CC(F)=CC=C12\",\"CC1=C(C(=O)N2CC(NC(=O)C3=NSC=C3)CC3(CC3)C2)ON=C1\",\"CC1=C(C(=O)N2CC(NC(=O)C3CC4(CCC4O)C3)C(C)(C)C2)OC(CO)=C1\"]]\n",
              "idnumber: [[\"Z4351198893\",\"Z4284248114\",\"Z4251076025\",\"Z4285343860\",\"Z4284213998\",...,\"PV-007848866526\",\"PV-009513762825\",\"PV-005881383041\",\"PV-003510336955\",\"PV-003398868277\"],[\"PV-005844038931\",\"PV-008957694593\",\"PV-009578443795\",\"Z6082900879\",\"Z6082901490\",...,\"PV-009402833566\",\"Z5550011348\",\"PV-002359051245\",\"PV-002837359526\",\"PV-009153727078\"],...,[\"PV-008159022612\",\"Z5589794421\",\"PV-009339570669\",\"PV-007978697278\",\"PV-002841964675\",...,\"Z5086912745\",\"PV-007713606897\",\"Z5092249976\",\"PV-007175954786\",\"Z5086985793\"],[\"Z6118003272\",\"PV-007031769387\",\"Z5091703413\",\"PV-007220416661\",\"Z5091310258\",...,\"PV-007264899897\",\"PV-008921255456\",\"PV-007662083153\",\"PV-002761986907\",\"PV-006965139447\"]]\n",
              "Type: [[\"M\",\"M\",\"M\",\"M\",\"M\",...,\"M\",\"M\",\"M\",\"M\",\"M\"],[\"M\",\"M\",\"M\",\"S\",\"S\",...,\"M\",\"M\",\"S\",\"M\",\"M\"],...,[\"M\",\"M\",\"M\",\"M\",\"M\",...,\"M\",\"M\",\"M\",\"M\",\"M\"],[\"M\",\"M\",\"M\",\"M\",\"M\",...,\"M\",\"M\",\"M\",\"M\",\"M\"]]\n",
              "mw: [[288.275,280.296,244.201,322.352,319.352,...,401.286,387.484,373.501,326.784,322.344],[385.411,383.246,389.29,325.456,292.404,...,270.332,272.348,273.42,294.341,355.57],...,[400.5,263.297,402.495,402.516,295.766,...,339.277,400.28,337.221,361.283,339.277],[351.244,349.272,335.201,402.354,326.234,...,402.52,395.463,401.463,346.412,390.48]]\n",
              "hba: [[5,5,5,4,4,...,6,6,4,3,5],[4,5,4,3,4,...,3,3,1,2,3],...,[5,5,6,5,3,...,2,5,3,2,2],[2,2,3,3,2,...,5,6,5,6,5]]\n",
              "hbd: [[2,2,1,2,1,...,2,2,3,4,3],[2,2,3,3,2,...,2,1,1,0,0],...,[1,1,2,2,0,...,1,0,1,0,1],[1,0,0,0,0,...,3,1,1,1,3]]\n",
              "num_heavy_atoms: [[19,18,17,22,22,...,23,28,27,22,23],[26,23,23,24,20,...,20,20,20,21,26],...,[28,19,29,28,20,...,20,25,20,22,20],[21,21,20,23,19,...,28,29,28,24,28]]"
            ]
          },
          "metadata": {},
          "execution_count": 67
        }
      ]
    },
    {
      "cell_type": "code",
      "source": [
        "# converting to IPC\n",
        "\n",
        "def convert_parquet_to_ipc(parquet_path, ipc_path):\n",
        "    # Read the parquet file\n",
        "    table = pq.read_table(parquet_path)\n",
        "\n",
        "    # Convert the table to IPC format\n",
        "    writer = pa.RecordBatchFileWriter(ipc_path, table.schema)\n",
        "\n",
        "    # Write the table to the IPC file\n",
        "    for batch in table.to_batches():\n",
        "        writer.write(batch)\n",
        "\n",
        "    # Close the IPC writer\n",
        "    writer.close()"
      ],
      "metadata": {
        "id": "RDwiZxc5fYX4"
      },
      "execution_count": 101,
      "outputs": []
    },
    {
      "cell_type": "code",
      "source": [
        "chunks[0].split('.')[0]+ '.ipc'"
      ],
      "metadata": {
        "colab": {
          "base_uri": "https://localhost:8080/",
          "height": 35
        },
        "id": "oDIlob-xfyDt",
        "outputId": "9ea35054-88e6-40f8-82d0-34e1b1d84508"
      },
      "execution_count": 104,
      "outputs": [
        {
          "output_type": "execute_result",
          "data": {
            "text/plain": [
              "'enamine_real_dl_chunk_48.ipc'"
            ],
            "application/vnd.google.colaboratory.intrinsic+json": {
              "type": "string"
            }
          },
          "metadata": {},
          "execution_count": 104
        }
      ]
    },
    {
      "cell_type": "code",
      "source": [
        "%%time\n",
        "chunks = [i for i in os.listdir() if 'enamine_real_dl_chunk' in i]\n",
        "chunks = [i for i in chunks if '.pq' in i]\n",
        "for i in chunks:\n",
        "  bname = i.split('.')[0]\n",
        "  convert_parquet_to_ipc(i, bname + '.ipc')\n",
        "  print(bname + '.ipc')"
      ],
      "metadata": {
        "colab": {
          "base_uri": "https://localhost:8080/"
        },
        "id": "-t_c3k57fgS7",
        "outputId": "ca0ea3bc-5df8-451a-ca68-87a283bc04f1"
      },
      "execution_count": 111,
      "outputs": [
        {
          "output_type": "stream",
          "name": "stdout",
          "text": [
            "enamine_real_dl_chunk_48.ipc\n",
            "enamine_real_dl_chunk_34.ipc\n",
            "enamine_real_dl_chunk_42.ipc\n",
            "enamine_real_dl_chunk_11.ipc\n",
            "enamine_real_dl_chunk_22.ipc\n",
            "enamine_real_dl_chunk_43.ipc\n",
            "enamine_real_dl_chunk_41.ipc\n",
            "enamine_real_dl_chunk_5.ipc\n",
            "enamine_real_dl_chunk_3.ipc\n",
            "enamine_real_dl_chunk_38.ipc\n",
            "enamine_real_dl_chunk_10.ipc\n",
            "enamine_real_dl_chunk_20.ipc\n",
            "enamine_real_dl_chunk_47.ipc\n",
            "enamine_real_dl_chunk_45.ipc\n",
            "enamine_real_dl_chunk_8.ipc\n",
            "enamine_real_dl_chunk_37.ipc\n",
            "enamine_real_dl_chunk_31.ipc\n",
            "enamine_real_dl_chunk_44.ipc\n",
            "enamine_real_dl_chunk_25.ipc\n",
            "enamine_real_dl_chunk_6.ipc\n",
            "enamine_real_dl_chunk_14.ipc\n",
            "enamine_real_dl_chunk_24.ipc\n",
            "enamine_real_dl_chunk_13.ipc\n",
            "enamine_real_dl_chunk_27.ipc\n",
            "enamine_real_dl_chunk_7.ipc\n",
            "enamine_real_dl_chunk_28.ipc\n",
            "enamine_real_dl_chunk_29.ipc\n",
            "enamine_real_dl_chunk_16.ipc\n",
            "enamine_real_dl_chunk_23.ipc\n",
            "enamine_real_dl_chunk_19.ipc\n",
            "enamine_real_dl_chunk_9.ipc\n",
            "enamine_real_dl_chunk_26.ipc\n",
            "enamine_real_dl_chunk_12.ipc\n",
            "enamine_real_dl_chunk_18.ipc\n",
            "enamine_real_dl_chunk_39.ipc\n",
            "enamine_real_dl_chunk_15.ipc\n",
            "enamine_real_dl_chunk_21.ipc\n",
            "enamine_real_dl_chunk_35.ipc\n",
            "enamine_real_dl_chunk_49.ipc\n",
            "enamine_real_dl_chunk_17.ipc\n",
            "enamine_real_dl_chunk_46.ipc\n",
            "enamine_real_dl_chunk_1.ipc\n",
            "enamine_real_dl_chunk_4.ipc\n",
            "enamine_real_dl_chunk_36.ipc\n",
            "enamine_real_dl_chunk_40.ipc\n",
            "enamine_real_dl_chunk_33.ipc\n",
            "enamine_real_dl_chunk_30.ipc\n",
            "enamine_real_dl_chunk_32.ipc\n",
            "enamine_real_dl_chunk_2.ipc\n",
            "CPU times: user 21.4 s, sys: 17.4 s, total: 38.8 s\n",
            "Wall time: 18.3 s\n"
          ]
        }
      ]
    },
    {
      "cell_type": "markdown",
      "source": [
        "## Benchmark: read and filter"
      ],
      "metadata": {
        "id": "A8f81A7jcGEr"
      }
    },
    {
      "cell_type": "code",
      "execution_count": 90,
      "metadata": {
        "id": "XrlYbLCSdwMd"
      },
      "outputs": [],
      "source": [
        "import os\n",
        "import polars as pl\n",
        "import pandas as pd\n",
        "import dask.dataframe as dd\n",
        "import time\n",
        "import fnmatch\n",
        "from tqdm import tqdm\n",
        "\n",
        "import pyarrow.parquet as pq\n",
        "import pyarrow as pa\n",
        "from pyarrow import dataset as ds"
      ]
    },
    {
      "cell_type": "code",
      "source": [
        "def rflt_data_pandas(directory, pattern='*.pq'):\n",
        "    start_time = time.time()\n",
        "    row_count = 0\n",
        "\n",
        "    files = fnmatch.filter(os.listdir(directory), pattern)\n",
        "    for filename in tqdm(files, desc=\"Processing files\"):\n",
        "        df = pd.read_parquet(os.path.join(directory, filename))\n",
        "        row_count += df[(df.hba > 6) & (df.hbd >= 2) & (df.num_heavy_atoms > 15) & (df.num_heavy_atoms < 30) & (df.mw > 222)].shape[0]\n",
        "\n",
        "    elapsed_time = time.time() - start_time\n",
        "    return row_count, elapsed_time"
      ],
      "metadata": {
        "id": "t_wfroszjdtI"
      },
      "execution_count": 80,
      "outputs": []
    },
    {
      "cell_type": "code",
      "source": [
        "def rflt_data_polars(directory, pattern='*.pq'):\n",
        "    start_time = time.time()\n",
        "    row_count = 0\n",
        "    files = fnmatch.filter(os.listdir(directory), pattern)\n",
        "    for filename in tqdm(files, desc=\"Processing files\"):\n",
        "        df = pl.read_parquet(os.path.join(directory, filename))\n",
        "        row_count += df.filter((df[\"hba\"] > 6) & (df[\"hbd\"] >= 2) & (df[\"num_heavy_atoms\"] > 15) & (df[\"num_heavy_atoms\"] < 30) & (df[\"mw\"] > 222)).shape[0]\n",
        "\n",
        "    elapsed_time = time.time() - start_time\n",
        "    return row_count, elapsed_time"
      ],
      "metadata": {
        "id": "BjD9MitMhiZm"
      },
      "execution_count": 81,
      "outputs": []
    },
    {
      "cell_type": "code",
      "source": [
        "def rflt_data_dask(directory, pattern='*.pq'):\n",
        "    start_time = time.time()\n",
        "\n",
        "    df = dd.read_parquet(directory + '/' + pattern)\n",
        "    df_filtered = df[(df.hba > 6) & (df.hbd >= 2) & (df.num_heavy_atoms > 15) & (df.num_heavy_atoms < 30) & (df.mw > 222)]\n",
        "\n",
        "    row_count = df_filtered.shape[0].compute()\n",
        "    elapsed_time = time.time() - start_time\n",
        "    return row_count, elapsed_time"
      ],
      "metadata": {
        "id": "3T4KWLAvkyd3"
      },
      "execution_count": 82,
      "outputs": []
    },
    {
      "cell_type": "code",
      "source": [
        "def rflt_data_pyarrow(directory, pattern='*.pq'):\n",
        "    start_time = time.time()\n",
        "    row_count = 0\n",
        "\n",
        "    files = fnmatch.filter(os.listdir(directory), pattern)\n",
        "    for filename in files:\n",
        "        table = pq.read_table(os.path.join(directory, filename))\n",
        "\n",
        "        mask_hba = [x > 6 for x in table.column('hba').to_pylist()]\n",
        "        mask_hbd = [x >= 2 for x in table.column('hbd').to_pylist()]\n",
        "        num_heavy_atoms_list = table.column('num_heavy_atoms').to_pylist()\n",
        "        mask_num_heavy_atoms_1 = [x > 15 for x in num_heavy_atoms_list]\n",
        "        mask_num_heavy_atoms_2 = [x < 30 for x in num_heavy_atoms_list]\n",
        "        mask_mw = [x > 222 for x in table.column('mw').to_pylist()]\n",
        "\n",
        "        final_mask = [hba and hbd and ha1 and ha2 and mw for hba, hbd, ha1, ha2, mw in zip(mask_hba, mask_hbd, mask_num_heavy_atoms_1, mask_num_heavy_atoms_2, mask_mw)]\n",
        "        row_count += sum(final_mask)\n",
        "\n",
        "    elapsed_time = time.time() - start_time\n",
        "    return row_count, elapsed_time\n"
      ],
      "metadata": {
        "id": "FvxYijzEuj95"
      },
      "execution_count": 83,
      "outputs": []
    },
    {
      "cell_type": "code",
      "source": [
        "def rflt_data_pyarrow3(directory_path, pattern):\n",
        "\n",
        "    filters = [\n",
        "    ('hba', '>', 6),\n",
        "    ('hbd', '>=', 2),\n",
        "    ('num_heavy_atoms', '>', 15),\n",
        "    ('num_heavy_atoms', '<', 30),\n",
        "    ('mw', '>', 222)]\n",
        "\n",
        "    files = fnmatch.filter(os.listdir(directory), pattern)\n",
        "\n",
        "    total_rows = 0\n",
        "    start_time = time.time()\n",
        "\n",
        "    # Apply filters to each file\n",
        "    for filename in files:\n",
        "        dataset = ds.dataset(filename, format='parquet')\n",
        "\n",
        "        filter_expression = None\n",
        "        for column, operator, value in filters:\n",
        "            filter_condition = ds.field(column) > value\n",
        "            if filter_expression is None:\n",
        "                filter_expression = filter_condition\n",
        "            else:\n",
        "                filter_expression = filter_expression & filter_condition\n",
        "\n",
        "        filtered_table = dataset.to_table(filter=filter_expression)\n",
        "        total_rows += len(filtered_table)\n",
        "\n",
        "    end_time = time.time()\n",
        "    time_taken = end_time - start_time\n",
        "\n",
        "    return total_rows, time_taken"
      ],
      "metadata": {
        "id": "wNNLDzmzZJiF"
      },
      "execution_count": 97,
      "outputs": []
    },
    {
      "cell_type": "code",
      "source": [
        "def rflt_data_ipc(directory_path, pattern):\n",
        "\n",
        "    filters = [\n",
        "    ('hba', '>', 6),\n",
        "    ('hbd', '>=', 2),\n",
        "    ('num_heavy_atoms', '>', 15),\n",
        "    ('num_heavy_atoms', '<', 30),\n",
        "    ('mw', '>', 222)]\n",
        "\n",
        "    files = fnmatch.filter(os.listdir(directory), pattern)\n",
        "\n",
        "    total_rows = 0\n",
        "    start_time = time.time()\n",
        "\n",
        "    # Apply filters to each file\n",
        "    for filename in files:\n",
        "        dataset = ds.dataset(filename, format='ipc')\n",
        "\n",
        "        filter_expression = None\n",
        "        for column, operator, value in filters:\n",
        "            filter_condition = ds.field(column) > value\n",
        "            if filter_expression is None:\n",
        "                filter_expression = filter_condition\n",
        "            else:\n",
        "                filter_expression = filter_expression & filter_condition\n",
        "\n",
        "        filtered_table = dataset.to_table(filter=filter_expression)\n",
        "        total_rows += len(filtered_table)\n",
        "\n",
        "    end_time = time.time()\n",
        "    time_taken = end_time - start_time\n",
        "\n",
        "    return total_rows, time_taken"
      ],
      "metadata": {
        "id": "pD4kHsQmgiE7"
      },
      "execution_count": 112,
      "outputs": []
    },
    {
      "cell_type": "code",
      "source": [
        "pd_rows, pd_time = rflt_data_pandas('.', 'enamine_real_dl_chunk*.pq')"
      ],
      "metadata": {
        "colab": {
          "base_uri": "https://localhost:8080/"
        },
        "id": "Vc1vJUiChiWq",
        "outputId": "7dacbd09-f2b3-4d6c-9c82-6d972bcff98a"
      },
      "execution_count": 32,
      "outputs": [
        {
          "output_type": "stream",
          "name": "stderr",
          "text": [
            "Processing files: 100%|██████████| 49/49 [00:47<00:00,  1.03it/s]\n"
          ]
        }
      ]
    },
    {
      "cell_type": "code",
      "source": [
        "pl_rows, pl_time = rflt_data_polars('.', 'enamine_real_dl_chunk*.pq')"
      ],
      "metadata": {
        "colab": {
          "base_uri": "https://localhost:8080/"
        },
        "id": "tAItcv2Vhic6",
        "outputId": "ef83e411-08ed-4872-9eb1-9f5d478a89c2"
      },
      "execution_count": 35,
      "outputs": [
        {
          "output_type": "stream",
          "name": "stderr",
          "text": [
            "Processing files: 100%|██████████| 49/49 [00:06<00:00,  7.47it/s]\n"
          ]
        }
      ]
    },
    {
      "cell_type": "code",
      "source": [
        "dd_rows, dd_time = rflt_data_dask('.', 'enamine_real_dl_chunk*.pq')"
      ],
      "metadata": {
        "id": "RcrgBFS3kxx6"
      },
      "execution_count": 43,
      "outputs": []
    },
    {
      "cell_type": "code",
      "source": [
        "pa_rows, pa_time = rflt_data_pyarrow3('.', 'enamine_real_dl_chunk*.pq')"
      ],
      "metadata": {
        "id": "EMhmtRScuVn2"
      },
      "execution_count": 109,
      "outputs": []
    },
    {
      "cell_type": "code",
      "source": [
        "pai_rows, pai_time = rflt_data_ipc('.', 'enamine_real_dl_chunk*.ipc')"
      ],
      "metadata": {
        "id": "f3CpFJOjgg3H"
      },
      "execution_count": 114,
      "outputs": []
    },
    {
      "cell_type": "code",
      "source": [
        "print(f'Pandas: {pd_rows} rows, {pd_time:.2f} seconds')\n",
        "print(f'Polars: {pl_rows} rows, {pl_time:.2f} seconds')\n",
        "print(f'Dask: {dd_rows} rows, {dd_time:.2f} seconds')\n",
        "print(f'PyArrow Parquet: {pa_rows} rows, {pa_time:.2f} seconds')\n",
        "print(f'PyArrow IPC: {pai_rows} rows, {pai_time:.2f} seconds')"
      ],
      "metadata": {
        "colab": {
          "base_uri": "https://localhost:8080/"
        },
        "id": "Fjh-gjxBsBrU",
        "outputId": "739151a9-3b90-4945-d382-de98ac397b9c"
      },
      "execution_count": 115,
      "outputs": [
        {
          "output_type": "stream",
          "name": "stdout",
          "text": [
            "Pandas: 442912 rows, 47.49 seconds\n",
            "Polars: 442912 rows, 6.57 seconds\n",
            "Dask: 442912 rows, 56.60 seconds\n",
            "PyArrow Parquet: 613 rows, 4.31 seconds\n",
            "PyArrow IPC: 613 rows, 1.53 seconds\n"
          ]
        }
      ]
    }
  ],
  "metadata": {
    "colab": {
      "machine_shape": "hm",
      "provenance": [],
      "collapsed_sections": [
        "VORahhjSiQ3U",
        "k887vPhC9RFH"
      ],
      "mount_file_id": "1kMQU6yjN-Nu3TpKXTRRigKTevTRei962",
      "authorship_tag": "ABX9TyN+1UTV5x5gcWKCySjPH6/H",
      "include_colab_link": true
    },
    "kernelspec": {
      "display_name": "Python 3",
      "name": "python3"
    },
    "language_info": {
      "name": "python"
    }
  },
  "nbformat": 4,
  "nbformat_minor": 0
}